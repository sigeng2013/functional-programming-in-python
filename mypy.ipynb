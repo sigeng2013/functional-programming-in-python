{
 "cells": [
  {
   "cell_type": "code",
   "execution_count": null,
   "metadata": {},
   "outputs": [],
   "source": [
    "%reload_ext mypy_ipython \n",
    "%mypy"
   ]
  },
  {
   "cell_type": "code",
   "execution_count": null,
   "metadata": {},
   "outputs": [],
   "source": [
    "# int, float, str, bool\n",
    "i1: int = 3\n",
    "f1: float = 3.0\n",
    "s1: str = \"hello!\"\n",
    "b1: bool = True"
   ]
  },
  {
   "cell_type": "code",
   "execution_count": null,
   "metadata": {},
   "outputs": [],
   "source": [
    "# List\n",
    "from typing import List\n",
    "\n",
    "lst: List = []\n",
    "    \n",
    "empty_lst_of_int: List[int] = []\n",
    "lst_of_int: List[int] = [1, 2, 3]"
   ]
  },
  {
   "cell_type": "code",
   "execution_count": null,
   "metadata": {
    "scrolled": false
   },
   "outputs": [],
   "source": [
    "# Dict\n",
    "from typing import Dict\n",
    "\n",
    "dct1: Dict = {}\n",
    "dct2: Dict = {'hello': 'world'}\n",
    "dct3: Dict[str, str] = {'hello': 'world'}\n",
    "dct4: Dict[str, int] = {'five': 5}\n",
    "dct5: Dict[int, List[int]] = {0: [1,2,3], 1: [9, -1]}"
   ]
  },
  {
   "cell_type": "code",
   "execution_count": null,
   "metadata": {},
   "outputs": [],
   "source": [
    "# Tuple\n",
    "from typing import Tuple\n",
    "\n",
    "t0: Tuple = ()\n",
    "t1: Tuple = (1, 2, 3)\n",
    "t2: Tuple[int, str, bool] = (1, \"\", False)"
   ]
  },
  {
   "cell_type": "code",
   "execution_count": null,
   "metadata": {},
   "outputs": [],
   "source": [
    "# Typing functions\n",
    "from typing import Callable\n",
    "\n",
    "f0: Callable[[int, int], str] = lambda x, y: str(x + y)"
   ]
  },
  {
   "cell_type": "code",
   "execution_count": null,
   "metadata": {},
   "outputs": [],
   "source": [
    "# Exercise 5"
   ]
  },
  {
   "cell_type": "code",
   "execution_count": null,
   "metadata": {},
   "outputs": [],
   "source": [
    "# Classes\n",
    "from typing import NamedTuple\n",
    "\n",
    "class C(NamedTuple):\n",
    "    x: int\n",
    "    y: str\n",
    "\n",
    "c: C = C(3, 'foo')\n",
    "    "
   ]
  },
  {
   "cell_type": "code",
   "execution_count": null,
   "metadata": {},
   "outputs": [],
   "source": [
    "# Optional\n",
    "from typing import Optional\n",
    "\n",
    "x: Optional[int] = None\n",
    "y: Optional[int] = 3"
   ]
  },
  {
   "cell_type": "code",
   "execution_count": null,
   "metadata": {},
   "outputs": [],
   "source": [
    "# Union\n",
    "from typing import Union\n",
    "\n",
    "def f(x: Union[str, int]):\n",
    "    return str(x)\n",
    "\n",
    "f(3)\n",
    "output: Union[str, List[int]] = f(\"hello!\")\n",
    "\n"
   ]
  },
  {
   "cell_type": "code",
   "execution_count": null,
   "metadata": {},
   "outputs": [],
   "source": [
    "# Exercise 6"
   ]
  },
  {
   "cell_type": "code",
   "execution_count": null,
   "metadata": {},
   "outputs": [],
   "source": [
    "# TypeVars and higher-kinded types\n",
    "from typing import TypeVar\n",
    "\n",
    "A = TypeVar('A')\n",
    "\n",
    "def f(a: A) -> A:\n",
    "    return a\n",
    "\n",
    "f(4)\n",
    "f(None)\n",
    "f([1,2,3])\n",
    "\n",
    "def g(a1: A, a2: A) -> List[A]:\n",
    "    return [a1, a2]\n",
    "\n",
    "g(1,2)\n",
    "g(\"b\", \"c\")"
   ]
  },
  {
   "cell_type": "code",
   "execution_count": null,
   "metadata": {},
   "outputs": [],
   "source": [
    "# Generic classes\n",
    "\n",
    "class MyList(Generic[A]):\n",
    "    pass"
   ]
  },
  {
   "cell_type": "code",
   "execution_count": null,
   "metadata": {},
   "outputs": [],
   "source": [
    "# Forward References (classes that refer to themselves)\n",
    "\n",
    "class Counter(NamedTuple):\n",
    "    current_count: int\n",
    "    \n",
    "    def increment(self) -> 'Counter':\n",
    "        new_count: int = self.current_count + 1\n",
    "        return Counter(new_count)"
   ]
  },
  {
   "cell_type": "code",
   "execution_count": null,
   "metadata": {},
   "outputs": [],
   "source": [
    "# Type aliases\n",
    "\n",
    "CounterMatrix = List[List[Counter]]\n",
    "Point = (int, int)\n",
    "CustomerId = str"
   ]
  },
  {
   "cell_type": "code",
   "execution_count": null,
   "metadata": {},
   "outputs": [],
   "source": [
    "# Exercise 7"
   ]
  }
 ],
 "metadata": {
  "kernelspec": {
   "display_name": "Python 3",
   "language": "python",
   "name": "python3"
  },
  "language_info": {
   "codemirror_mode": {
    "name": "ipython",
    "version": 3
   },
   "file_extension": ".py",
   "mimetype": "text/x-python",
   "name": "python",
   "nbconvert_exporter": "python",
   "pygments_lexer": "ipython3",
   "version": "3.8.5"
  }
 },
 "nbformat": 4,
 "nbformat_minor": 4
}
