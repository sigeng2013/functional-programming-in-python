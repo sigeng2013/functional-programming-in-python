{
 "cells": [
  {
   "cell_type": "markdown",
   "metadata": {},
   "source": [
    "### Exercise 7\n",
    "In this exercise, you will define classes with more complex types."
   ]
  },
  {
   "cell_type": "code",
   "execution_count": null,
   "metadata": {},
   "outputs": [],
   "source": [
    "%load_ext mypy_ipython\n",
    "%mypy"
   ]
  },
  {
   "cell_type": "code",
   "execution_count": null,
   "metadata": {},
   "outputs": [],
   "source": [
    "# Add types to the following code.\n",
    "# Hint: value can be any type as long as it is consistent throughout the tree!\n",
    "# Hint: self.left and self.right can be TreeNode or None\n",
    "from typing import TypeVar, List, Optional, Generic\n",
    "\n",
    "T = TypeVar('T')\n",
    "\n",
    "class TreeNode(Generic[T]):\n",
    "    def __init__(self, value: T, left: Optional['TreeNode[T]']=None, right: Optional['TreeNode[T]']=None):\n",
    "        self.value: T = value\n",
    "        self.left: Optional['TreeNode[T]'] = left\n",
    "        self.right: Optional['TreeNode[T]'] = right\n",
    "    \n",
    "    def values(self) -> List[T]:\n",
    "        return [self.value] + get_values(self.left) + get_values(self.right)\n",
    "\n",
    "    \n",
    "def get_values(maybe_tree_node: Optional['TreeNode[T]']) -> List[T]:\n",
    "    if maybe_tree_node:\n",
    "        return maybe_tree_node.values()\n",
    "    else:\n",
    "        return []\n",
    "    \n",
    "get_values(TreeNode(3, TreeNode(4)))"
   ]
  },
  {
   "cell_type": "code",
   "execution_count": null,
   "metadata": {},
   "outputs": [],
   "source": [
    "# Add types to the following code.\n",
    "# Assume that the dictionaries only has string keys and values.\n",
    "from typing import Dict\n",
    "def names(arr: List[Dict[str, str]]) -> List[str]:\n",
    "    return [item['name'].upper() for item in arr]"
   ]
  },
  {
   "cell_type": "code",
   "execution_count": null,
   "metadata": {},
   "outputs": [],
   "source": [
    "# Write a class `IceCreamSundae` which has a collection\n",
    "# of ice cream flavor names, and a cost. It also\n",
    "# should have a method `add_scoop`, which takes \n",
    "# a flavor name (string) and a price (int) and\n",
    "# returns an IceCreamSundae with those things\n",
    "# added.\n",
    "from typing import Tuple, NamedTuple\n",
    "\n",
    "class IceCreamSundae(NamedTuple):\n",
    "    names: Tuple[str, ...]\n",
    "    cost: int\n",
    "        \n",
    "    def add_scoop(self, name: str, price: int):\n",
    "        return self._replace(names = self.names+(name,), price=self.price+price)"
   ]
  },
  {
   "cell_type": "code",
   "execution_count": null,
   "metadata": {},
   "outputs": [],
   "source": [
    "class Lab:\n",
    "    is_complete: bool\n",
    "        \n",
    "class Homework:\n",
    "    grade: int\n",
    "    max_grade: int\n",
    "        \n",
    "class Exam:\n",
    "    grade: int\n",
    "    max_grade: int\n",
    "        \n",
    "# Given the above classes, write a \"StudentGradeHistory\" class that\n",
    "#   contains a collection of labs, homeworks, and exams.\n",
    "# Write a method that computes the percentage of labs completed.\n",
    "# Write a method that computes the average homework grade.\n",
    "# Write a method that computes the average exam grade.\n",
    "# Write a method that returns the number of total grades that have been recorded.\n",
    "\n",
    "class StudentGradeHistory(NamedTuple):\n",
    "    lab: List[Lab]\n",
    "    hws: List[Homework]\n",
    "    exam: List[Exam]\n",
    "        \n",
    "    def percent_labs(self) -> float:\n",
    "        return len(l for l in self.lab is l.is_complete) / len(self.lab)\n",
    "     \n",
    "    def hw_grade(self) -> float:\n",
    "        return sum(hw.grade for hw in self.hws) / sum(hw.max_grade for hw in self.hws)\n",
    "    \n",
    "    def exam_grade(self) -> float:\n",
    "        return sum(hw.grade for hw in self.exams) / sum(hw.max_grade for hw in self.exams)\n",
    "    \n",
    "    def total_grades(self) -> int:\n",
    "        return len(lab) + len(hws) + len(exam)\n",
    "        "
   ]
  },
  {
   "cell_type": "code",
   "execution_count": null,
   "metadata": {},
   "outputs": [],
   "source": [
    "# Challenge:\n",
    "# Write a class `Pair` that takes two values of the same type (call it T) \n",
    "# and has two methods `first` and `second` which return each of the values.\n",
    "# Now, modify the class so that it has two separte values, one for the first\n",
    "# value and one for the second value."
   ]
  },
  {
   "cell_type": "code",
   "execution_count": null,
   "metadata": {},
   "outputs": [],
   "source": [
    "# Challenge:\n",
    "# Write a class that takes a List[A] and a List[B] as input. \n",
    "# It should have the following methods:\n",
    "#   - zip, returning a List[(A, B)] containing pairs from the two lists\n",
    "#   - map"
   ]
  },
  {
   "cell_type": "code",
   "execution_count": null,
   "metadata": {},
   "outputs": [],
   "source": []
  }
 ],
 "metadata": {
  "kernelspec": {
   "display_name": "Python 3",
   "language": "python",
   "name": "python3"
  },
  "language_info": {
   "codemirror_mode": {
    "name": "ipython",
    "version": 3
   },
   "file_extension": ".py",
   "mimetype": "text/x-python",
   "name": "python",
   "nbconvert_exporter": "python",
   "pygments_lexer": "ipython3",
   "version": "3.8.5"
  }
 },
 "nbformat": 4,
 "nbformat_minor": 4
}
