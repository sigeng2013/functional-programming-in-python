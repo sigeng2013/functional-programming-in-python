{
 "cells": [
  {
   "cell_type": "markdown",
   "metadata": {},
   "source": [
    "### Exercise 4\n",
    "The decorator pattern allows you to write classes or functions that wrap other classes, but \"decorate\" them by adding some functionality."
   ]
  },
  {
   "cell_type": "code",
   "execution_count": 1,
   "metadata": {},
   "outputs": [],
   "source": [
    "from typing import NamedTuple\n",
    "# Icecream definition:\n",
    "class IceCream:\n",
    "    def number_of_scoops(self):\n",
    "        return 2\n",
    "    \n",
    "    def cost(self):\n",
    "        return 300\n",
    "\n",
    "class ExtraScoopDecorator(NamedTuple):\n",
    "    ice_cream: IceCream\n",
    "    \n",
    "    def number_of_scoops(self):\n",
    "        return 1 + ice_cream.number_of_scoops()\n",
    "    \n",
    "    def cost():\n",
    "        return 50 + ice_cream.cost()\n"
   ]
  },
  {
   "cell_type": "code",
   "execution_count": 2,
   "metadata": {},
   "outputs": [
    {
     "ename": "SyntaxError",
     "evalue": "invalid syntax (<ipython-input-2-64dfdd182df6>, line 4)",
     "output_type": "error",
     "traceback": [
      "\u001b[0;36m  File \u001b[0;32m\"<ipython-input-2-64dfdd182df6>\"\u001b[0;36m, line \u001b[0;32m4\u001b[0m\n\u001b[0;31m    class InflationDecorator(NamedT)\u001b[0m\n\u001b[0m                                    ^\u001b[0m\n\u001b[0;31mSyntaxError\u001b[0m\u001b[0;31m:\u001b[0m invalid syntax\n"
     ]
    }
   ],
   "source": [
    "# Now, implement a decorator class like ExtraScoop called `InflationDecorator`\n",
    "# that multiplies the cost of an ice cream by 1.03.\n",
    "\n",
    "class InflationDecorator(NamedTuple):\n",
    "    ice_cream: IceCream\n",
    "    \n",
    "    def number_of_scoops(self):\n",
    "        return ice_cream.number_of_scoops()\n",
    "    \n",
    "    def cost(self):\n",
    "        return 1.03 * ice_cream.cost()\n"
   ]
  },
  {
   "cell_type": "code",
   "execution_count": 2,
   "metadata": {},
   "outputs": [],
   "source": [
    "# Next, write a decorator `MakeItDouble` that doubles the number of scoops and the price.\n",
    "\n",
    "class MakeItDouble(NamedTuple):\n",
    "    ice_cream: IceCream\n",
    "    \n",
    "    def number_of_scoops(self):\n",
    "        return 2 * ice_cream.number_of_scoops()\n",
    "    \n",
    "    def cost(self):\n",
    "        return 2 * ice_cream.cost()"
   ]
  },
  {
   "cell_type": "code",
   "execution_count": null,
   "metadata": {},
   "outputs": [],
   "source": [
    "# Challenge: write a decorator that takes an integer called `multiple`\n",
    "# and multiplies the number of scoops and the price by that number.\n",
    "\n",
    "\n",
    "class Multiple(NamedTuple):\n",
    "    ice_cream: IceCream\n",
    "    multiple: int\n",
    "    \n",
    "    def number_of_scoops(self):\n",
    "        return self.multiple * ice_cream.number_of_scoops()\n",
    "    \n",
    "    def cost(self):\n",
    "        return self.multiple * ice_cream.cost()\n",
    "    \n",
    "    def price_per_scoop(self):\n",
    "        return self.cost() / self.number_of_scoops() "
   ]
  },
  {
   "cell_type": "code",
   "execution_count": null,
   "metadata": {},
   "outputs": [],
   "source": [
    "# Challenge: add a method that tells you the price per scoop\n",
    "# > Done in Multiple, same code works everywhere"
   ]
  },
  {
   "cell_type": "code",
   "execution_count": 3,
   "metadata": {},
   "outputs": [],
   "source": [
    "# Challenge: modify the data structure to include flavors for each scoop.\n",
    "#    * return a set with all the unique flavors\n",
    "#    * return a dictionary mapping each flavor name to the number of scoops contained\n",
    "from typing import Set\n",
    "\n",
    "class IceCream(NamedTuple):\n",
    "    flavor1: str\n",
    "    flavor2: str\n",
    "    \n",
    "    def number_of_scoops(self):\n",
    "        return 2\n",
    "    \n",
    "    def cost(self):\n",
    "        return 300\n",
    "    \n",
    "    def flavors(self):\n",
    "        return self._flavors\n",
    "    \n",
    "    def flavor_counts(self):\n",
    "        return {self.flavor1: 1, self.flavor2: 1} # assumes they are different\n",
    "\n",
    "class ExtraScoopDecorator(NamedTuple):\n",
    "    ice_cream: IceCream\n",
    "    flavor: str\n",
    "    \n",
    "    def number_of_scoops(self):\n",
    "        return 1 + ice_cream.number_of_scoops()\n",
    "    \n",
    "    def cost(self):\n",
    "        return 50 + ice_cream.cost()\n",
    "    \n",
    "    def flavors(self):\n",
    "        return self.flavor + self.ice_cream.flavors()\n",
    "    \n",
    "    def flavor_counts(self):\n",
    "        d = self.ice_cream.flavor_counts()\n",
    "        d[self.flavor] = d.get(self.flavor, 0) + 1\n"
   ]
  },
  {
   "cell_type": "code",
   "execution_count": null,
   "metadata": {},
   "outputs": [],
   "source": []
  }
 ],
 "metadata": {
  "kernelspec": {
   "display_name": "Python 3",
   "language": "python",
   "name": "python3"
  },
  "language_info": {
   "codemirror_mode": {
    "name": "ipython",
    "version": 3
   },
   "file_extension": ".py",
   "mimetype": "text/x-python",
   "name": "python",
   "nbconvert_exporter": "python",
   "pygments_lexer": "ipython3",
   "version": "3.8.5"
  }
 },
 "nbformat": 4,
 "nbformat_minor": 4
}
