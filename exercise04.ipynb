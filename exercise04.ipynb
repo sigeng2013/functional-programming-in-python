{
 "cells": [
  {
   "cell_type": "markdown",
   "metadata": {},
   "source": [
    "### Exercise 4\n",
    "The decorator pattern allows you to write classes or functions that wrap other classes, but \"decorate\" them by adding some functionality."
   ]
  },
  {
   "cell_type": "code",
   "execution_count": null,
   "metadata": {},
   "outputs": [],
   "source": [
    "from typing import NamedTuple\n",
    "# Icecream definition:\n",
    "class IceCream:\n",
    "    def number_of_scoops(self):\n",
    "        return 2\n",
    "    \n",
    "    def cost(self):\n",
    "        return 300\n",
    "\n",
    "class ExtraScoopDecorator(NamedTuple):\n",
    "    ice_cream: IceCream\n",
    "    \n",
    "    def number_of_scoops(self):\n",
    "        return 1 + ice_cream.number_of_scoops()\n",
    "    \n",
    "    def cost(self):\n",
    "        return 50 + ice_cream.cost()\n"
   ]
  },
  {
   "cell_type": "code",
   "execution_count": null,
   "metadata": {},
   "outputs": [],
   "source": [
    "# Now, implement a decorator class like ExtraScoop called `InflationDecorator`\n",
    "# that multiplies the cost of an ice cream by 1.03."
   ]
  },
  {
   "cell_type": "code",
   "execution_count": null,
   "metadata": {},
   "outputs": [],
   "source": [
    "# Next, write a decorator `MakeItDouble` that doubles the number of scoops and the price."
   ]
  },
  {
   "cell_type": "code",
   "execution_count": null,
   "metadata": {},
   "outputs": [],
   "source": [
    "# Challenge: write a decorator that takes an integer called `multiple`\n",
    "# and multiplies the number of scoops and the price by that number."
   ]
  },
  {
   "cell_type": "code",
   "execution_count": null,
   "metadata": {},
   "outputs": [],
   "source": [
    "# Challenge: add a method that tells you the price per scoop"
   ]
  },
  {
   "cell_type": "code",
   "execution_count": null,
   "metadata": {},
   "outputs": [],
   "source": [
    "# Challenge: modify the data structure to include flavors for each scoop.\n",
    "#    * return a set with all the unique flavors\n",
    "#    * return a dictionary mapping each flavor name to the number of scoops contained"
   ]
  }
 ],
 "metadata": {
  "kernelspec": {
   "display_name": "Python 3",
   "language": "python",
   "name": "python3"
  },
  "language_info": {
   "codemirror_mode": {
    "name": "ipython",
    "version": 3
   },
   "file_extension": ".py",
   "mimetype": "text/x-python",
   "name": "python",
   "nbconvert_exporter": "python",
   "pygments_lexer": "ipython3",
   "version": "3.8.5"
  }
 },
 "nbformat": 4,
 "nbformat_minor": 4
}
