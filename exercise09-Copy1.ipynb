{
 "cells": [
  {
   "cell_type": "markdown",
   "metadata": {},
   "source": [
    "### Exercise 9\n",
    "In this exercise, you will practice using map and filter and group_by as replacements for list comprehensions."
   ]
  },
  {
   "cell_type": "code",
   "execution_count": 2,
   "metadata": {},
   "outputs": [],
   "source": [
    "arr = [1,2,3,4,5,6,7,8,9,10]"
   ]
  },
  {
   "cell_type": "code",
   "execution_count": 3,
   "metadata": {},
   "outputs": [
    {
     "data": {
      "text/plain": [
       "[2, 3, 4, 5, 6, 7, 8, 9, 10, 11]"
      ]
     },
     "execution_count": 3,
     "metadata": {},
     "output_type": "execute_result"
    }
   ],
   "source": [
    "# \"Mapping\" a function applies it to each element of a list\n",
    "list(map(lambda x: x + 1, arr))"
   ]
  },
  {
   "cell_type": "code",
   "execution_count": 4,
   "metadata": {},
   "outputs": [
    {
     "name": "stdout",
     "output_type": "stream",
     "text": [
      "[1, 2, 3, 4]\n",
      "[1, 2, 3, 4]\n"
     ]
    }
   ],
   "source": [
    "# \"Filtering\" a list keeps only the elements that the function returns \"True\" for\n",
    "print(list(filter(lambda x: x < 5, arr)))\n",
    "\n",
    "def is_small(x):\n",
    "    return x < 5\n",
    "print(list(filter(is_small, arr)))\n",
    "\n"
   ]
  },
  {
   "cell_type": "code",
   "execution_count": 6,
   "metadata": {},
   "outputs": [
    {
     "data": {
      "text/plain": [
       "[2, 4, 6, 8, 10, 12, 14, 16, 18, 20]"
      ]
     },
     "execution_count": 6,
     "metadata": {},
     "output_type": "execute_result"
    }
   ],
   "source": [
    "# Double each element in the list using map\n",
    "list(map(lambda x: x * 2, arr))"
   ]
  },
  {
   "cell_type": "code",
   "execution_count": 7,
   "metadata": {},
   "outputs": [
    {
     "data": {
      "text/plain": [
       "[1, 3, 5, 7, 9]"
      ]
     },
     "execution_count": 7,
     "metadata": {},
     "output_type": "execute_result"
    }
   ],
   "source": [
    "# Keep only elements which are odd using filter. \n",
    "# You can use this function\n",
    "def is_odd(n):\n",
    "    return n % 2 == 1\n",
    "\n",
    "list(filter(is_odd, arr))"
   ]
  },
  {
   "cell_type": "code",
   "execution_count": 8,
   "metadata": {},
   "outputs": [
    {
     "data": {
      "text/plain": [
       "[2, 6, 10, 14, 18]"
      ]
     },
     "execution_count": 8,
     "metadata": {},
     "output_type": "execute_result"
    }
   ],
   "source": [
    "# First keep only odd elements, then double the rest.\n",
    "# Challenge: Can you do this without using any intermediate variables?\n",
    "list(map(lambda x: x * 2, filter(is_odd, arr)))"
   ]
  },
  {
   "cell_type": "code",
   "execution_count": 10,
   "metadata": {},
   "outputs": [
    {
     "name": "stdout",
     "output_type": "stream",
     "text": [
      "[(True, <itertools._grouper object at 0x7fe922f63160>), (False, <itertools._grouper object at 0x7fe922f63fd0>)]\n",
      "[(True, <itertools._grouper object at 0x7fe922f63f10>), (False, <itertools._grouper object at 0x7fe922f63f40>), (True, <itertools._grouper object at 0x7fe922f63fd0>), (False, <itertools._grouper object at 0x7fe92392d430>), (True, <itertools._grouper object at 0x7fe92392d400>), (False, <itertools._grouper object at 0x7fe92392d970>), (True, <itertools._grouper object at 0x7fe92392da00>), (False, <itertools._grouper object at 0x7fe92392dfd0>), (True, <itertools._grouper object at 0x7fe92392df40>), (False, <itertools._grouper object at 0x7fe9235bc2b0>)]\n",
      "\n",
      "\n",
      "Value True, group [1, 2, 3, 4]\n",
      "Value False, group [5, 6, 7, 8, 9, 10]\n"
     ]
    }
   ],
   "source": [
    "from itertools import groupby\n",
    "\n",
    "print(list(groupby(arr, is_small)))\n",
    "print(list(groupby(arr, is_odd)))\n",
    "\n",
    "print()\n",
    "print()\n",
    "\n",
    "for value, group in groupby(arr, is_small):\n",
    "    print(f\"Value {value}, group {list(group)}\")"
   ]
  },
  {
   "cell_type": "code",
   "execution_count": 15,
   "metadata": {},
   "outputs": [
    {
     "data": {
      "text/plain": [
       "[(1, <itertools._grouper at 0x7fe923bdd9d0>),\n",
       " (2, <itertools._grouper at 0x7fe923bdd5b0>),\n",
       " (0, <itertools._grouper at 0x7fe923bdd3a0>),\n",
       " (1, <itertools._grouper at 0x7fe923bdd400>),\n",
       " (2, <itertools._grouper at 0x7fe92393c040>),\n",
       " (0, <itertools._grouper at 0x7fe92393c580>),\n",
       " (1, <itertools._grouper at 0x7fe92393c4c0>),\n",
       " (2, <itertools._grouper at 0x7fe92393c460>),\n",
       " (0, <itertools._grouper at 0x7fe92393c100>),\n",
       " (1, <itertools._grouper at 0x7fe92393c190>)]"
      ]
     },
     "execution_count": 15,
     "metadata": {},
     "output_type": "execute_result"
    }
   ],
   "source": [
    "# Group arr using the below function\n",
    "def hard_div_four(x: int) -> int:\n",
    "    return x // 4\n",
    "\n",
    "list(groupby(arr, hard_div_four))\n",
    "\n",
    "# Next, write any function that accepts ints, and use it to group the array.\n",
    "def mod3(x: int) -> int:\n",
    "    return x % 3\n",
    "\n",
    "list(groupby(arr, mod3))\n",
    "\n"
   ]
  },
  {
   "cell_type": "code",
   "execution_count": null,
   "metadata": {},
   "outputs": [],
   "source": []
  },
  {
   "cell_type": "code",
   "execution_count": 18,
   "metadata": {},
   "outputs": [],
   "source": [
    "# Write a function that takes in a list of lists of numbers, and \n",
    "# returns a list of the sums of each list\n",
    "from typing import List\n",
    "def sum_lists(l: List[List[int]]) -> List[int]:\n",
    "    return [sum(x) for x in l]\n",
    "\n",
    "assert sum_lists([[1, 2], [3, 4]]) == [3, 7]"
   ]
  },
  {
   "cell_type": "code",
   "execution_count": null,
   "metadata": {},
   "outputs": [],
   "source": []
  }
 ],
 "metadata": {
  "kernelspec": {
   "display_name": "Python 3",
   "language": "python",
   "name": "python3"
  },
  "language_info": {
   "codemirror_mode": {
    "name": "ipython",
    "version": 3
   },
   "file_extension": ".py",
   "mimetype": "text/x-python",
   "name": "python",
   "nbconvert_exporter": "python",
   "pygments_lexer": "ipython3",
   "version": "3.8.5"
  }
 },
 "nbformat": 4,
 "nbformat_minor": 4
}
