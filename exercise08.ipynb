{
 "cells": [
  {
   "cell_type": "markdown",
   "metadata": {},
   "source": [
    "### Exercise 8\n",
    "In this exercise, you will write functions that cache their results, and write a decorator. First, here are some examples using lru_cache to speed up repeated computation."
   ]
  },
  {
   "cell_type": "code",
   "execution_count": null,
   "metadata": {},
   "outputs": [],
   "source": [
    "from time import sleep \n",
    "from datetime import datetime\n",
    "def slow_computation(x):\n",
    "    sleep(2)\n",
    "    print(\"Ran computation\")\n",
    "    \n",
    "    \n",
    "start_time = datetime.now()\n",
    "slow_computation(1)\n",
    "slow_computation(1)\n",
    "slow_computation(1)\n",
    "slow_computation(1)\n",
    "slow_computation(1)\n",
    "print(datetime.now() - start_time)"
   ]
  },
  {
   "cell_type": "code",
   "execution_count": null,
   "metadata": {},
   "outputs": [],
   "source": [
    "from functools import lru_cache\n",
    "\n",
    "@lru_cache()\n",
    "def cached_slow_computation(x):\n",
    "    sleep(2)\n",
    "    print(\"Ran computation\")\n",
    "    \n",
    "start_time = datetime.now()\n",
    "cached_slow_computation(1)\n",
    "cached_slow_computation(1)\n",
    "cached_slow_computation(1)\n",
    "cached_slow_computation(1)\n",
    "cached_slow_computation(1)\n",
    "print(datetime.now() - start_time)"
   ]
  },
  {
   "cell_type": "code",
   "execution_count": null,
   "metadata": {},
   "outputs": [],
   "source": [
    "# Now, here is an implementation of fibonacci.\n",
    "\n",
    "def fib(n: int) -> int:\n",
    "    if n == 0:\n",
    "        return 0\n",
    "    elif n == 1:\n",
    "        return 1\n",
    "    else:\n",
    "        return fib(n-1) + fib(n-2)\n",
    "\n",
    "start_time = datetime.now()\n",
    "fib(34)\n",
    "# Try it with 40 if you're willing to wait! Takes ~35 seconds on my machine\n",
    "print(f\"fib took {datetime.now() - start_time}\")\n",
    "\n",
    "\n",
    "# That is too slow. Add a LRU cache to that function, and see how long it takes!\n",
    "# Then try `print(fib.cache_info())` to see how many times it hit/missed the cache\n"
   ]
  },
  {
   "cell_type": "code",
   "execution_count": null,
   "metadata": {},
   "outputs": [],
   "source": [
    "# Decorators\n",
    "# printing exmample\n",
    "from functools import wraps\n",
    "\n",
    "def logging(func):\n",
    "    @wraps(func)\n",
    "    def modified(*args, **kwargs):\n",
    "        out = func(*args, **kwargs)\n",
    "        print(f\"{func.__name__} called with {list(args)} {kwargs} returned {out}\")\n",
    "\n",
    "    return modified\n",
    "\n",
    "@logging\n",
    "def f(x, y=0):\n",
    "    return x + y + 3\n",
    "\n",
    "f(4, y=3)\n",
    "f(4, 3)"
   ]
  },
  {
   "cell_type": "code",
   "execution_count": null,
   "metadata": {},
   "outputs": [],
   "source": [
    "# Implement a decorator that takes a function \n",
    "# and produces a function that prints \"{func.__name__} invoked\"\n",
    "# whenever it is called"
   ]
  },
  {
   "cell_type": "code",
   "execution_count": null,
   "metadata": {},
   "outputs": [],
   "source": [
    "# Implement a decorator that takes a function f\n",
    "# and produces a function that returns whatever\n",
    "# f returned plus one"
   ]
  }
 ],
 "metadata": {
  "kernelspec": {
   "display_name": "Python 3",
   "language": "python",
   "name": "python3"
  },
  "language_info": {
   "codemirror_mode": {
    "name": "ipython",
    "version": 3
   },
   "file_extension": ".py",
   "mimetype": "text/x-python",
   "name": "python",
   "nbconvert_exporter": "python",
   "pygments_lexer": "ipython3",
   "version": "3.8.5"
  }
 },
 "nbformat": 4,
 "nbformat_minor": 4
}
