{
 "cells": [
  {
   "cell_type": "markdown",
   "metadata": {},
   "source": [
    "### Exercise 6\n",
    "In this exercise, you will write classes and functions with types. **All of the classes you define should extend NamedTuple.**"
   ]
  },
  {
   "cell_type": "code",
   "execution_count": null,
   "metadata": {},
   "outputs": [],
   "source": [
    "%load_ext mypy_ipython\n",
    "%mypy"
   ]
  },
  {
   "cell_type": "code",
   "execution_count": null,
   "metadata": {},
   "outputs": [],
   "source": [
    "# Create a class called `Point`, which contains\n",
    "# an x and y position. Both are floats."
   ]
  },
  {
   "cell_type": "code",
   "execution_count": null,
   "metadata": {},
   "outputs": [],
   "source": [
    "# Create a function called `distance_to_origin`,\n",
    "# which takes a Point and returns its distance to\n",
    "# the origin. Hint: distance is sqrt(x*x + y*y)"
   ]
  },
  {
   "cell_type": "code",
   "execution_count": null,
   "metadata": {},
   "outputs": [],
   "source": [
    "# Create a class called `PaintBucket`, which has a name\n",
    "# (which is a string) and a price. The price is either\n",
    "# an integer (number of cents), or None if the paint\n",
    "# is not currently on the market."
   ]
  },
  {
   "cell_type": "code",
   "execution_count": null,
   "metadata": {},
   "outputs": [],
   "source": [
    "# Create a function called \"paint_cost\", which takes in\n",
    "# a list of PaintBuckets and outputs their total cost, if\n",
    "# it is known."
   ]
  },
  {
   "cell_type": "code",
   "execution_count": null,
   "metadata": {},
   "outputs": [],
   "source": [
    "# Create a function `with_price` which takes a PaintBucket\n",
    "# and an integer, and sets the price of the paintbucket to\n",
    "# that integer."
   ]
  },
  {
   "cell_type": "code",
   "execution_count": null,
   "metadata": {},
   "outputs": [],
   "source": [
    "# Create a function `with_inflation` which takes a PaintBucket\n",
    "# and multiplies the price by 1.03. "
   ]
  },
  {
   "cell_type": "code",
   "execution_count": null,
   "metadata": {},
   "outputs": [],
   "source": [
    "# Challenge: Create a class `Combination` which takes two \n",
    "# PaintBuckets and has the name <name1+name2> and the sum\n",
    "# of the two prices. If one price is None, the price of \n",
    "# the combination should be None."
   ]
  },
  {
   "cell_type": "code",
   "execution_count": null,
   "metadata": {},
   "outputs": [],
   "source": [
    "# Challenge:\n",
    "#   Create a class that represents a list of paint buckets. \n",
    "#   Include methods to\n",
    "#     * Add a paint bucket\n",
    "#     * Remove a paint bucket by name\n",
    "#     * Get the total price\n",
    "#     * Return the n-indexed paint bucket\n",
    "#     * Return the first paint bucket under a certain price\n",
    "#     * Return the paint bucket with the lowest price"
   ]
  }
 ],
 "metadata": {
  "kernelspec": {
   "display_name": "Python 3",
   "language": "python",
   "name": "python3"
  },
  "language_info": {
   "codemirror_mode": {
    "name": "ipython",
    "version": 3
   },
   "file_extension": ".py",
   "mimetype": "text/x-python",
   "name": "python",
   "nbconvert_exporter": "python",
   "pygments_lexer": "ipython3",
   "version": "3.8.5"
  }
 },
 "nbformat": 4,
 "nbformat_minor": 4
}
