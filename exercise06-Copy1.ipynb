{
 "cells": [
  {
   "cell_type": "markdown",
   "metadata": {},
   "source": [
    "### Exercise 6\n",
    "In this exercise, you will write classes and functions with types. **All of the classes you define should extend NamedTuple.**"
   ]
  },
  {
   "cell_type": "code",
   "execution_count": null,
   "metadata": {},
   "outputs": [],
   "source": [
    "%load_ext mypy_ipython\n",
    "%mypy"
   ]
  },
  {
   "cell_type": "code",
   "execution_count": null,
   "metadata": {},
   "outputs": [],
   "source": [
    "# Create a class called `Point`, which contains\n",
    "# an x and y position. Both are floats.\n",
    "from typing import NamedTuple\n",
    "class Point(NamedTuple):\n",
    "    x: float\n",
    "    y: float"
   ]
  },
  {
   "cell_type": "code",
   "execution_count": null,
   "metadata": {},
   "outputs": [],
   "source": [
    "# Create a function called `distance_to_origin`,\n",
    "# which takes a Point and returns its distance to\n",
    "# the origin. Hint: distance is sqrt(x*x + y*y)\n",
    "from math import sqrt\n",
    "\n",
    "def distance_to_origin(p: Point) -> float:\n",
    "    return sqrt(p.x*p.x + p.y*p.y)"
   ]
  },
  {
   "cell_type": "code",
   "execution_count": null,
   "metadata": {},
   "outputs": [],
   "source": [
    "# Create a class called `PaintBucket`, which has a name\n",
    "# (which is a string) and a price. The price is either\n",
    "# an integer (number of cents), or None if the paint\n",
    "# is not currently on the market.\n",
    "\n",
    "from typing import Optional\n",
    "class PaintBucket(NamedTuple):\n",
    "    name: str\n",
    "    price: Optional[int]"
   ]
  },
  {
   "cell_type": "code",
   "execution_count": null,
   "metadata": {},
   "outputs": [],
   "source": [
    "# Create a function called \"paint_cost\", which takes in\n",
    "# a list of PaintBuckets and outputs their total cost, if\n",
    "# any of them have costs, otherwise None.\n",
    "from typing import List\n",
    "\n",
    "def paint_cost(arr: List[PaintBucket]):\n",
    "    cost = None\n",
    "    for paint_bucket in arr:\n",
    "        if paint_bucket.price:\n",
    "            cost = (cost or 0) + paint_bucket.price\n",
    "    return cost\n",
    "\n",
    "assert paint_cost([PaintBucket(\"\", 100), PaintBucket(\"\", None)]) == 100"
   ]
  },
  {
   "cell_type": "code",
   "execution_count": null,
   "metadata": {},
   "outputs": [],
   "source": [
    "# Create a function `with_price` which takes a PaintBucket\n",
    "# and an integer, and sets the price of the paintbucket to\n",
    "# that integer.\n",
    "def with_price(pb, price):\n",
    "    return pb._replace(price=price)"
   ]
  },
  {
   "cell_type": "code",
   "execution_count": null,
   "metadata": {},
   "outputs": [],
   "source": [
    "# Create a function `with_inflation` which takes a PaintBucket\n",
    "# and multiplies the price by 1.03. \n",
    "def with_inflation(pb):\n",
    "    return pb._replace(price=pb.price * 1.03)"
   ]
  },
  {
   "cell_type": "code",
   "execution_count": null,
   "metadata": {},
   "outputs": [],
   "source": [
    "# Challenge: Create a class `Combination` which takes two \n",
    "# PaintBuckets and has the name <name1+name2> and the sum\n",
    "# of the two prices. If one price is None, the price of \n",
    "# the combination should be None.\n",
    "\n",
    "class Combination:\n",
    "    def __init__(pb1, pb2):\n",
    "        self.name = f\"{pb1.name}+{pb2.name}\"\n",
    "        if pb1.price and pb2.price:\n",
    "            self.price = pb1.price or 0 + pb2.price or 0\n",
    "        else:\n",
    "            self.price = None"
   ]
  },
  {
   "cell_type": "code",
   "execution_count": null,
   "metadata": {},
   "outputs": [],
   "source": [
    "# Challenge:\n",
    "#   Create a class that represents a list of paint buckets. \n",
    "#   Include methods to\n",
    "#     * Add a paint bucket\n",
    "#     * Remove a paint bucket by name\n",
    "#     * Get the total price\n",
    "#     * Return the n-indexed paint bucket\n",
    "#     * Return the first paint bucket under a certain price\n",
    "#     * Return the paint bucket with the lowest price"
   ]
  }
 ],
 "metadata": {
  "kernelspec": {
   "display_name": "Python 3",
   "language": "python",
   "name": "python3"
  },
  "language_info": {
   "codemirror_mode": {
    "name": "ipython",
    "version": 3
   },
   "file_extension": ".py",
   "mimetype": "text/x-python",
   "name": "python",
   "nbconvert_exporter": "python",
   "pygments_lexer": "ipython3",
   "version": "3.8.5"
  }
 },
 "nbformat": 4,
 "nbformat_minor": 4
}
