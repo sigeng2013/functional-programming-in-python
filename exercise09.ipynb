{
 "cells": [
  {
   "cell_type": "markdown",
   "metadata": {},
   "source": [
    "### Exercise 9\n",
    "In this exercise, you will practice using map and filter and group_by as replacements for list comprehensions."
   ]
  },
  {
   "cell_type": "code",
   "execution_count": null,
   "metadata": {},
   "outputs": [],
   "source": [
    "arr = [1,2,3,4,5,6,7,8,9,10]"
   ]
  },
  {
   "cell_type": "code",
   "execution_count": null,
   "metadata": {},
   "outputs": [],
   "source": [
    "# \"Mapping\" a function applies it to each element of a list\n",
    "list(map(lambda x: x + 1, arr))"
   ]
  },
  {
   "cell_type": "code",
   "execution_count": null,
   "metadata": {},
   "outputs": [],
   "source": [
    "# \"Filtering\" a list keeps only the elements that the function returns \"True\" for\n",
    "print(list(filter(lambda x: x < 5, arr)))\n",
    "\n",
    "def is_small(x):\n",
    "    return x < 5\n",
    "print(list(filter(is_small, arr)))\n",
    "\n"
   ]
  },
  {
   "cell_type": "code",
   "execution_count": null,
   "metadata": {},
   "outputs": [],
   "source": [
    "# Double each element in the list using map"
   ]
  },
  {
   "cell_type": "code",
   "execution_count": null,
   "metadata": {},
   "outputs": [],
   "source": [
    "# Keep only elements which are odd using filter. \n",
    "# You can use this function\n",
    "def is_odd(n):\n",
    "    return n % 2 == 1"
   ]
  },
  {
   "cell_type": "code",
   "execution_count": null,
   "metadata": {},
   "outputs": [],
   "source": [
    "# First keep only odd elements, then double the rest.\n",
    "# Challenge: Can you do this without using any intermediate variables?"
   ]
  },
  {
   "cell_type": "code",
   "execution_count": null,
   "metadata": {},
   "outputs": [],
   "source": [
    "from itertools import groupby\n",
    "\n",
    "print(list(groupby(arr, is_small)))\n",
    "print(list(groupby(arr, is_odd)))\n",
    "\n",
    "print()\n",
    "print()\n",
    "\n",
    "for value, group in groupby(arr, is_small):\n",
    "    print(f\"Value {value}, group {list(group)}\")"
   ]
  },
  {
   "cell_type": "code",
   "execution_count": null,
   "metadata": {},
   "outputs": [],
   "source": [
    "# Group arr using the below function\n",
    "def hard_div_four(x: int) -> int:\n",
    "    return x // 4\n",
    "\n",
    "# Next, write any function that accepts ints, and use it to group the array."
   ]
  },
  {
   "cell_type": "code",
   "execution_count": null,
   "metadata": {},
   "outputs": [],
   "source": [
    "# Write a function that takes in a list of lists of numbers, and \n",
    "# returns a list of the sums of each list\n",
    "assert sum_lists([[1, 2], [3, 4]]) == [3, 7]"
   ]
  }
 ],
 "metadata": {
  "kernelspec": {
   "display_name": "Python 3",
   "language": "python",
   "name": "python3"
  },
  "language_info": {
   "codemirror_mode": {
    "name": "ipython",
    "version": 3
   },
   "file_extension": ".py",
   "mimetype": "text/x-python",
   "name": "python",
   "nbconvert_exporter": "python",
   "pygments_lexer": "ipython3",
   "version": "3.8.5"
  }
 },
 "nbformat": 4,
 "nbformat_minor": 4
}
