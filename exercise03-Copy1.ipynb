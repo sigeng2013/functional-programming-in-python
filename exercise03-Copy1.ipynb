{
 "cells": [
  {
   "cell_type": "markdown",
   "metadata": {},
   "source": [
    "### Exercise 3\n",
    "Exercise 3 explores the strategy pattern. Here is an example of a class that takes a strategy object:"
   ]
  },
  {
   "cell_type": "code",
   "execution_count": 35,
   "metadata": {},
   "outputs": [],
   "source": [
    "class CustomerBill:\n",
    "    def __init__(self, strategy):\n",
    "        self.strategy = strategy\n",
    "        self.items = []\n",
    "    \n",
    "    def add_item(self, item):\n",
    "        self.items.append(self.strategy.update_price(item))\n",
    "\n",
    "from typing import NamedTuple\n",
    "class BarItem(NamedTuple):\n",
    "    name: str\n",
    "    price: int  # in cents\n",
    "        \n",
    "beer = BarItem(\"beer\", 650)\n",
    "wine = BarItem(\"wine\", 1200)\n",
    "        \n",
    "class NormalStrategy:\n",
    "    def update_price(self, item):\n",
    "        return item\n",
    "    \n",
    "            \n",
    "class HappyHourStrategy:\n",
    "    def update_price(self, item):\n",
    "        return item._replace(price=item.price / 2)"
   ]
  },
  {
   "cell_type": "code",
   "execution_count": 36,
   "metadata": {},
   "outputs": [
    {
     "name": "stdout",
     "output_type": "stream",
     "text": [
      "<__main__.CustomerBill object at 0x7fcc89a63520>\n",
      "<__main__.CustomerBill object at 0x7fcc89a63df0>\n"
     ]
    }
   ],
   "source": [
    "bill = CustomerBill(NormalStrategy())\n",
    "bill.add_item(wine)\n",
    "print(bill)\n",
    "\n",
    "bill2 = CustomerBill(HappyHourStrategy())\n",
    "bill2.add_item(beer)\n",
    "bill2.add_item(beer)\n",
    "\n",
    "print(bill2)"
   ]
  },
  {
   "cell_type": "code",
   "execution_count": 43,
   "metadata": {},
   "outputs": [],
   "source": [
    "from typing import Any, Tuple, NamedTuple\n",
    "# Reimplement CustomerBill to be immutable: \n",
    "# extend from NamedTuple and replace the array with a tuple\n",
    "\n",
    "class CustomerBill(NamedTuple):\n",
    "    strategy: Any\n",
    "    items: Tuple = ()\n",
    "        \n",
    "    def add_item(self, item):\n",
    "        return self._replace(items=self.items+(self.strategy.update_price(item),))\n",
    "        \n",
    "        \n",
    "    def total_price(self, ):\n",
    "        return sum(item.price for item in self.items)"
   ]
  },
  {
   "cell_type": "code",
   "execution_count": 44,
   "metadata": {},
   "outputs": [
    {
     "name": "stdout",
     "output_type": "stream",
     "text": [
      "1200\n",
      "650.0\n"
     ]
    }
   ],
   "source": [
    "# Add a method `total_price` which computes the total price of each item.\n",
    "# Modify the print statements to print the total price instead of the whole bill.\n",
    "bill = CustomerBill(NormalStrategy())\n",
    "bill = bill.add_item(wine)\n",
    "print(bill.total_price())\n",
    "\n",
    "bill2 = CustomerBill(HappyHourStrategy()).add_item(beer).add_item(beer)\n",
    "print(bill2.total_price())"
   ]
  },
  {
   "cell_type": "code",
   "execution_count": 40,
   "metadata": {},
   "outputs": [],
   "source": [
    "# Then, re-create the bills above with your new data.\n",
    "# Create one bill with a normal strategy and wine, and\n",
    "# one bill with a happyhour strategy and two beers"
   ]
  },
  {
   "cell_type": "code",
   "execution_count": 45,
   "metadata": {},
   "outputs": [],
   "source": [
    "# Then, replace the strategy objects with plain Python functions.\n",
    "# This will simplify the code, as new strategies won't have to be\n",
    "# full-fledged classes.\n",
    "\n",
    "class CustomerBill(NamedTuple):\n",
    "    strategy: Any\n",
    "    items: Tuple = ()\n",
    "        \n",
    "    def add_item(self, item):\n",
    "        return self._replace(items=self.items+(self.strategy(item),))\n",
    "        \n",
    "        \n",
    "    def total_price(self, ):\n",
    "        return sum(item.price for item in self.items)"
   ]
  },
  {
   "cell_type": "code",
   "execution_count": 47,
   "metadata": {},
   "outputs": [
    {
     "name": "stdout",
     "output_type": "stream",
     "text": [
      "1200\n",
      "650.0\n"
     ]
    }
   ],
   "source": [
    "# Finally, re-re-create the bills above using your new classes.\n",
    "bill = CustomerBill(lambda x: x)\n",
    "bill = bill.add_item(wine)\n",
    "print(bill.total_price())\n",
    "\n",
    "bill2 = CustomerBill(lambda x: x._replace(price=x.price / 2)).add_item(beer).add_item(beer)\n",
    "print(bill2.total_price())"
   ]
  },
  {
   "cell_type": "code",
   "execution_count": 5,
   "metadata": {},
   "outputs": [],
   "source": [
    "# Challenge:\n",
    "#     Management has decided that they want to apply the happy hour discount\n",
    "#     when closing out a tab, instead of when opening one. Remove the strategy\n",
    "#     from the constructor and add it to total_price\n",
    "\n",
    "# See below, move strategy to be a parameter of total_price"
   ]
  },
  {
   "cell_type": "code",
   "execution_count": 54,
   "metadata": {},
   "outputs": [
    {
     "name": "stdout",
     "output_type": "stream",
     "text": [
      "975.0\n"
     ]
    }
   ],
   "source": [
    "# Challenge:\n",
    "#    Define a new strategy that gives you 50% off your second purchase.\n",
    "#    Can you modify your code so that this works without requiring mutation\n",
    "#    or any global variables?\n",
    "class CustomerBill(NamedTuple):\n",
    "    items: Tuple = ()\n",
    "        \n",
    "    def add_item(self, item):\n",
    "        return self._replace(items=self.items+(item,))\n",
    "        \n",
    "        \n",
    "    def total_price(self, strategy):\n",
    "        return sum(item.price for item in strategy(self.items))\n",
    "    \n",
    "def half_off_second_purchase(tup):\n",
    "    if len(tup) >= 2:\n",
    "        return (tup[0], tup[1]._replace(price=tup[1].price / 2), *tup[2:])\n",
    "    else:\n",
    "        return purchases\n",
    "    \n",
    "bill2 = CustomerBill().add_item(beer).add_item(beer)\n",
    "print(bill2.total_price(half_off_second_purchase))"
   ]
  },
  {
   "cell_type": "code",
   "execution_count": null,
   "metadata": {},
   "outputs": [],
   "source": []
  }
 ],
 "metadata": {
  "kernelspec": {
   "display_name": "Python 3",
   "language": "python",
   "name": "python3"
  },
  "language_info": {
   "codemirror_mode": {
    "name": "ipython",
    "version": 3
   },
   "file_extension": ".py",
   "mimetype": "text/x-python",
   "name": "python",
   "nbconvert_exporter": "python",
   "pygments_lexer": "ipython3",
   "version": "3.8.5"
  }
 },
 "nbformat": 4,
 "nbformat_minor": 4
}
