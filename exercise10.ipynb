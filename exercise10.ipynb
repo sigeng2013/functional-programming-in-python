{
 "cells": [
  {
   "cell_type": "markdown",
   "metadata": {},
   "source": [
    "### Exercise 10\n",
    "In this exercise, you will use the operator package to simplify code."
   ]
  },
  {
   "cell_type": "code",
   "execution_count": null,
   "metadata": {},
   "outputs": [],
   "source": [
    "import operator\n",
    "\n",
    "def apply2(f, x, y):\n",
    "    return f(x, y)\n",
    "\n",
    "assert apply2(lambda x, y: x + y, 4, 5) == 9\n",
    "assert apply2(lambda x, y: x or y, 4, 5) == 4\n",
    "\n",
    "\n",
    "assert list(map(operator.not_, \n",
    "                [False, False, True,  False, False])) == \\\n",
    "                [True,  True,  False, True,  True]\n",
    "\n",
    "\n",
    "get_name = operator.itemgetter('name')\n",
    "alice = {'name': 'alice', 'age': 29}\n",
    "bob = {'name': 'bob', 'age': 24}\n",
    "assert get_name(alice) == 'alice'\n",
    "list(map(get_name, [alice, bob]))\n",
    "\n",
    "\n"
   ]
  },
  {
   "cell_type": "code",
   "execution_count": null,
   "metadata": {},
   "outputs": [],
   "source": [
    "# Use operator.neg to negate a list of numbers"
   ]
  },
  {
   "cell_type": "code",
   "execution_count": null,
   "metadata": {},
   "outputs": [],
   "source": [
    "# Write a class that takes two integers, and has a method\n",
    "# `apply` which takes a function and applies it to the two \n",
    "# numbers. Use operator.add and operator.mul"
   ]
  },
  {
   "cell_type": "code",
   "execution_count": null,
   "metadata": {},
   "outputs": [],
   "source": [
    " "
   ]
  }
 ],
 "metadata": {
  "kernelspec": {
   "display_name": "Python 3",
   "language": "python",
   "name": "python3"
  },
  "language_info": {
   "codemirror_mode": {
    "name": "ipython",
    "version": 3
   },
   "file_extension": ".py",
   "mimetype": "text/x-python",
   "name": "python",
   "nbconvert_exporter": "python",
   "pygments_lexer": "ipython3",
   "version": "3.8.5"
  }
 },
 "nbformat": 4,
 "nbformat_minor": 4
}
