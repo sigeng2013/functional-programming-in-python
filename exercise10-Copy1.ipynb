{
 "cells": [
  {
   "cell_type": "markdown",
   "metadata": {},
   "source": [
    "### Exercise 10\n",
    "In this exercise, you will use the operator package to simplify code."
   ]
  },
  {
   "cell_type": "code",
   "execution_count": 3,
   "metadata": {},
   "outputs": [
    {
     "data": {
      "text/plain": [
       "['alice', 'bob']"
      ]
     },
     "execution_count": 3,
     "metadata": {},
     "output_type": "execute_result"
    }
   ],
   "source": [
    "import operator\n",
    "\n",
    "def apply2(f, x, y):\n",
    "    return f(x, y)\n",
    "\n",
    "assert apply2(lambda x, y: x + y, 4, 5) == 9\n",
    "assert apply2(lambda x, y: x or y, 4, 5) == 4\n",
    "\n",
    "\n",
    "assert list(map(operator.not_, \n",
    "                [False, False, True,  False, False])) == \\\n",
    "                [True,  True,  False, True,  True]\n",
    "\n",
    "\n",
    "get_name = operator.itemgetter('name')\n",
    "alice = {'name': 'alice', 'age': 29}\n",
    "bob = {'name': 'bob', 'age': 24}\n",
    "assert get_name(alice) == 'alice'\n",
    "list(map(get_name, [alice, bob]))\n"
   ]
  },
  {
   "cell_type": "code",
   "execution_count": 6,
   "metadata": {},
   "outputs": [
    {
     "data": {
      "text/plain": [
       "[-1, -2, -3, -4]"
      ]
     },
     "execution_count": 6,
     "metadata": {},
     "output_type": "execute_result"
    }
   ],
   "source": [
    "# Use operator.neg_ to negate a list of numbers\n",
    "list(map(operator.neg, [1,2,3,4]))"
   ]
  },
  {
   "cell_type": "code",
   "execution_count": 10,
   "metadata": {},
   "outputs": [
    {
     "data": {
      "text/plain": [
       "2"
      ]
     },
     "execution_count": 10,
     "metadata": {},
     "output_type": "execute_result"
    }
   ],
   "source": [
    "# Write a class that takes two integers, and has a method\n",
    "# `apply` which takes a function and applies it to the two \n",
    "# numbers. Use operator.add and operator.mul\n",
    "from typing import NamedTuple\n",
    "class Applier(NamedTuple):\n",
    "    a: int\n",
    "    b: int\n",
    "    \n",
    "    def apply(self, func):\n",
    "        return func(self.a, self.b)\n",
    "    \n",
    "    \n",
    "Applier(1, 2).apply(operator.add)\n",
    "Applier(1, 2).apply(operator.mul)"
   ]
  },
  {
   "cell_type": "code",
   "execution_count": null,
   "metadata": {},
   "outputs": [],
   "source": [
    " "
   ]
  }
 ],
 "metadata": {
  "kernelspec": {
   "display_name": "Python 3",
   "language": "python",
   "name": "python3"
  },
  "language_info": {
   "codemirror_mode": {
    "name": "ipython",
    "version": 3
   },
   "file_extension": ".py",
   "mimetype": "text/x-python",
   "name": "python",
   "nbconvert_exporter": "python",
   "pygments_lexer": "ipython3",
   "version": "3.8.5"
  }
 },
 "nbformat": 4,
 "nbformat_minor": 4
}
