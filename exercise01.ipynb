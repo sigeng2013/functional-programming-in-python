{
 "cells": [
  {
   "cell_type": "markdown",
   "metadata": {
    "collapsed": true,
    "pycharm": {
     "name": "#%% md\n"
    }
   },
   "source": [
    "### Implementing Immutable Data Structures\n",
    "In this exercise, you will practice implementing your own immutable data structures. I have provided a sample class below. It represents a point with an x and y coordinate. The first exercise is to re-implement the class as something that extends namedtuple."
   ]
  },
  {
   "cell_type": "code",
   "execution_count": null,
   "metadata": {
    "pycharm": {
     "name": "#%%\n"
    }
   },
   "outputs": [],
   "source": [
    "import math\n",
    "\n",
    "class Point:\n",
    "    def __init__(self, x, y):\n",
    "        self.x = x\n",
    "        self.y = y\n",
    "\n",
    "    def set_x(self, new_x):\n",
    "        self.x = new_x\n",
    "\n",
    "    def set_y(self, new_y):\n",
    "        self.y = new_y\n",
    "\n",
    "    def distance_from_origin(self):\n",
    "        return math.sqrt(self.x * self.x + self.y * self.y)"
   ]
  },
  {
   "cell_type": "code",
   "execution_count": null,
   "metadata": {
    "pycharm": {
     "name": "#%%\n"
    }
   },
   "outputs": [],
   "source": [
    "# Implement a similar class to the one above. It should have\n",
    "# - an x and y coordinate (both floats)\n",
    "# - a method `with_x` that returns a new point with its x value set to the input\n",
    "# - a method `with_y` that returns a new point with its y value set to the input\n",
    "# - Challenge: write `move_x` and `move_y`, which shift x or y by the relevant \n",
    "#      input value. E.x. if the point was (3, 4) and you called move_x(3), it would \n",
    "#      be (6, 4)\n",
    "# - Challenge: write a move(x, y) function which takes two inputs and moves the point\n",
    "#      in both directions. Reimplement move_x and move_y in terms of this function.\n",
    "\n",
    "class ImmutablePoint:\n",
    "    pass\n"
   ]
  },
  {
   "cell_type": "markdown",
   "metadata": {
    "pycharm": {
     "name": "#%% md\n"
    }
   },
   "source": [
    "### Mutable NamedTuples\n",
    "Some classes that extend from NamedTuple are mutable, because they contain mutable fields. Here's one example:"
   ]
  },
  {
   "cell_type": "code",
   "execution_count": null,
   "metadata": {
    "pycharm": {
     "name": "#%%\n"
    }
   },
   "outputs": [],
   "source": [
    "from typing import NamedTuple, List\n",
    "\n",
    "class ShoppingListItem(NamedTuple):\n",
    "    name: str\n",
    "    price: float\n",
    "    is_taxable: bool\n",
    "        \n",
    "\n",
    "class ShoppingList(NamedTuple):\n",
    "    store: str # the name of the store\n",
    "    items: List # the items to get at that store\n",
    "\n",
    "    def add_item(self, item):\n",
    "        self.items.append(item)"
   ]
  },
  {
   "cell_type": "markdown",
   "metadata": {
    "pycharm": {
     "name": "#%% md\n"
    }
   },
   "source": [
    "* Implement an ImmutableShoppingCart that uses a Tuple, not a List. \n",
    "* Re-implement add_item as a method that returns a new ShoppingList. Hint: you can create tuples using parenthesis, like `(3,)`, and you can add two tuples to create a new tuple with all their elements."
   ]
  },
  {
   "cell_type": "code",
   "execution_count": null,
   "metadata": {
    "pycharm": {
     "name": "#%%\n"
    }
   },
   "outputs": [],
   "source": [
    "from typing import Tuple\n",
    "class ImmutableShoppingList(NamedTuple):\n",
    "    pass"
   ]
  },
  {
   "cell_type": "markdown",
   "metadata": {},
   "source": [
    "Next, we're going to make a class that holds a collection of shopping lists. We'll call it Fridge, because it represents a fridge with multiple shopping lists on it.\n",
    "\n",
    "* Implement a constructor that takes an iterable (list or tuple) of shopping lists and puts them on the fridge.\n",
    "* Implement a method add_shopping_list(shopping_list) which puts a new shopping list on the fridge.\n",
    "* Implement a method remove_shopping_list(store_name) which removes the shopping list for that store, if there is one on the fridge."
   ]
  },
  {
   "cell_type": "code",
   "execution_count": null,
   "metadata": {},
   "outputs": [],
   "source": [
    "# Implement Fridge here. Make sure that Fridge is immutable!"
   ]
  },
  {
   "cell_type": "markdown",
   "metadata": {},
   "source": [
    "* Challenge: Add a method `taxable_items()` to ShoppingList which returns only the taxable items in the list.\n",
    "* Challenge: Add a method `taxable_items_total_price()` to ShoppingList which returns the sum of the prices of only the taxable items in the list. Use the method `taxable_items()` which you just wrote\n",
    "* Challenge: Add those two methods to Fridge, combining all the items from all shopping lists.\n"
   ]
  },
  {
   "cell_type": "code",
   "execution_count": null,
   "metadata": {},
   "outputs": [],
   "source": []
  }
 ],
 "metadata": {
  "kernelspec": {
   "display_name": "Python 3",
   "language": "python",
   "name": "python3"
  },
  "language_info": {
   "codemirror_mode": {
    "name": "ipython",
    "version": 3
   },
   "file_extension": ".py",
   "mimetype": "text/x-python",
   "name": "python",
   "nbconvert_exporter": "python",
   "pygments_lexer": "ipython3",
   "version": "3.8.5"
  }
 },
 "nbformat": 4,
 "nbformat_minor": 1
}
