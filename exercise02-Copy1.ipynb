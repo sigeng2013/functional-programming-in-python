{
 "cells": [
  {
   "cell_type": "markdown",
   "metadata": {},
   "source": [
    "### Exercise 2\n",
    "In this exercise, you will practice operating on immutable data structures."
   ]
  },
  {
   "cell_type": "code",
   "execution_count": 4,
   "metadata": {},
   "outputs": [],
   "source": [
    "from typing import NamedTuple\n",
    "class Desk(NamedTuple):\n",
    "    color: str\n",
    "    price: int\n",
    "        \n",
    "class FilingCabinet(NamedTuple):\n",
    "    is_metal: bool\n",
    "    price: int"
   ]
  },
  {
   "cell_type": "code",
   "execution_count": 5,
   "metadata": {},
   "outputs": [],
   "source": [
    "# I am trying to furnish a new office. I want a filing cabinet\n",
    "# that is metal, a desk that is \"black\", and the total price\n",
    "# of the two items to be less than $100. Write a function\n",
    "# named `good_furniture` that takes a Desk and a FilingCabinet\n",
    "# and says whether they meet that criteria or not.\n",
    "def good_furniture(desk, cab):\n",
    "    return cab.is_metal and desk.color == \"black\" and desk.price + cab.price < 10000"
   ]
  },
  {
   "cell_type": "code",
   "execution_count": 6,
   "metadata": {},
   "outputs": [],
   "source": [
    "# Suppose you are working for a eCommerce shop that wants to \n",
    "# modify the price of their items to account for inflation.\n",
    "# Write a function `add_inflation` that takes Desk and \n",
    "# returns a new Desk with a price multipwlied by 1.03.\n",
    "# Hint: use _replace!\n",
    "def add_inflation(desk):\n",
    "    return desk._replace(price=desk.price * 1.03)"
   ]
  },
  {
   "cell_type": "code",
   "execution_count": 7,
   "metadata": {},
   "outputs": [
    {
     "data": {
      "text/plain": [
       "FilingCabinet(is_metal=False, price=103.0)"
      ]
     },
     "execution_count": 7,
     "metadata": {},
     "output_type": "execute_result"
    }
   ],
   "source": [
    "# Now, ensure the function above works with any NamedTuple \n",
    "# with a `price` field. Test it with Desk and FilingCabinet.\n",
    "# Does it need modification?\n",
    "add_inflation(FilingCabinet(False, 100))"
   ]
  },
  {
   "cell_type": "code",
   "execution_count": 9,
   "metadata": {},
   "outputs": [
    {
     "data": {
      "text/plain": [
       "212.18"
      ]
     },
     "execution_count": 9,
     "metadata": {},
     "output_type": "execute_result"
    }
   ],
   "source": [
    "# Create a Desk, and apply inflation to it twice. Print the \n",
    "# new price value. \n",
    "# Challenge: can you do this in one line, without any\n",
    "# intermediate variables?\n",
    "add_inflation(add_inflation(Desk(\"black\", 200))).price"
   ]
  },
  {
   "cell_type": "code",
   "execution_count": null,
   "metadata": {},
   "outputs": [],
   "source": []
  }
 ],
 "metadata": {
  "kernelspec": {
   "display_name": "Python 3",
   "language": "python",
   "name": "python3"
  },
  "language_info": {
   "codemirror_mode": {
    "name": "ipython",
    "version": 3
   },
   "file_extension": ".py",
   "mimetype": "text/x-python",
   "name": "python",
   "nbconvert_exporter": "python",
   "pygments_lexer": "ipython3",
   "version": "3.8.5"
  }
 },
 "nbformat": 4,
 "nbformat_minor": 4
}
